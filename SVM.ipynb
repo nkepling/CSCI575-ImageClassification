{
 "cells": [
  {
   "cell_type": "markdown",
   "metadata": {},
   "source": [
    "# SVM"
   ]
  },
  {
   "cell_type": "code",
   "execution_count": 3,
   "metadata": {},
   "outputs": [
    {
     "ename": "ModuleNotFoundError",
     "evalue": "No module named 'doPCA'",
     "output_type": "error",
     "traceback": [
      "\u001b[0;31m---------------------------------------------------------------------------\u001b[0m",
      "\u001b[0;31mModuleNotFoundError\u001b[0m                       Traceback (most recent call last)",
      "\u001b[1;32m/Users/nathankeplinger/Documents/Mines/Course Work/2022 Spring/AdvancedML/GroupProject/CSCI575-ImageClassification/SVM.ipynb Cell 2'\u001b[0m in \u001b[0;36m<cell line: 7>\u001b[0;34m()\u001b[0m\n\u001b[1;32m      <a href='vscode-notebook-cell:/Users/nathankeplinger/Documents/Mines/Course%20Work/2022%20Spring/AdvancedML/GroupProject/CSCI575-ImageClassification/SVM.ipynb#ch0000001?line=4'>5</a>\u001b[0m \u001b[39mimport\u001b[39;00m \u001b[39mmatplotlib\u001b[39;00m\u001b[39m.\u001b[39;00m\u001b[39mpyplot\u001b[39;00m \u001b[39mas\u001b[39;00m \u001b[39mplt\u001b[39;00m\n\u001b[1;32m      <a href='vscode-notebook-cell:/Users/nathankeplinger/Documents/Mines/Course%20Work/2022%20Spring/AdvancedML/GroupProject/CSCI575-ImageClassification/SVM.ipynb#ch0000001?line=5'>6</a>\u001b[0m \u001b[39mimport\u001b[39;00m \u001b[39mrandom\u001b[39;00m\n\u001b[0;32m----> <a href='vscode-notebook-cell:/Users/nathankeplinger/Documents/Mines/Course%20Work/2022%20Spring/AdvancedML/GroupProject/CSCI575-ImageClassification/SVM.ipynb#ch0000001?line=6'>7</a>\u001b[0m \u001b[39mfrom\u001b[39;00m \u001b[39mdoPCA\u001b[39;00m \u001b[39mimport\u001b[39;00m doPCA\n\u001b[1;32m      <a href='vscode-notebook-cell:/Users/nathankeplinger/Documents/Mines/Course%20Work/2022%20Spring/AdvancedML/GroupProject/CSCI575-ImageClassification/SVM.ipynb#ch0000001?line=7'>8</a>\u001b[0m get_ipython()\u001b[39m.\u001b[39mrun_line_magic(\u001b[39m'\u001b[39m\u001b[39mmatplotlib\u001b[39m\u001b[39m'\u001b[39m, \u001b[39m'\u001b[39m\u001b[39minline\u001b[39m\u001b[39m'\u001b[39m)\n",
      "\u001b[0;31mModuleNotFoundError\u001b[0m: No module named 'doPCA'"
     ]
    }
   ],
   "source": [
    "from getData import getData\n",
    "import numpy as np\n",
    "import pandas as pd\n",
    "import sklearn as sk\n",
    "import matplotlib.pyplot as plt\n",
    "import random\n",
    "from doPCA import doPCA\n",
    "%matplotlib inline\n"
   ]
  },
  {
   "cell_type": "code",
   "execution_count": null,
   "metadata": {},
   "outputs": [],
   "source": [
    "df = getData.createImageDf()\n"
   ]
  },
  {
   "cell_type": "code",
   "execution_count": null,
   "metadata": {},
   "outputs": [],
   "source": [
    "df[df[\"shapes\"] != (150,150,3)].count()"
   ]
  },
  {
   "cell_type": "code",
   "execution_count": null,
   "metadata": {},
   "outputs": [],
   "source": []
  }
 ],
 "metadata": {
  "interpreter": {
   "hash": "349f9f300c3308bd96a3ed67139c7dfaa051c797a3fe40fff9479c4cd0d41bc4"
  },
  "kernelspec": {
   "display_name": "Python 3.8.8 ('base')",
   "language": "python",
   "name": "python3"
  },
  "language_info": {
   "codemirror_mode": {
    "name": "ipython",
    "version": 3
   },
   "file_extension": ".py",
   "mimetype": "text/x-python",
   "name": "python",
   "nbconvert_exporter": "python",
   "pygments_lexer": "ipython3",
   "version": "3.8.8"
  },
  "orig_nbformat": 4
 },
 "nbformat": 4,
 "nbformat_minor": 2
}
